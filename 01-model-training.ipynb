{
 "cells": [
  {
   "cell_type": "code",
   "execution_count": 1,
   "metadata": {},
   "outputs": [
    {
     "name": "stdout",
     "output_type": "stream",
     "text": [
      "2.4.1\n"
     ]
    }
   ],
   "source": [
    "import numpy as np\n",
    "import pandas as pd\n",
    "import matplotlib.pyplot as plt\n",
    "\n",
    "from sklearn.model_selection import train_test_split\n",
    "from sklearn.decomposition import PCA\n",
    "from sklearn.metrics import classification_report\n",
    "from sklearn.preprocessing import LabelEncoder\n",
    "\n",
    "from lightgbm import LGBMClassifier\n",
    "\n",
    "import tensorflow as tf\n",
    "import tensorflow_hub as hub\n",
    "\n",
    "from transformers import BertTokenizer\n",
    "\n",
    "print(tf.__version__)"
   ]
  },
  {
   "cell_type": "code",
   "execution_count": 2,
   "metadata": {},
   "outputs": [],
   "source": [
    "data_path = '../files/'"
   ]
  },
  {
   "cell_type": "code",
   "execution_count": 3,
   "metadata": {},
   "outputs": [
    {
     "name": "stdout",
     "output_type": "stream",
     "text": [
      "(6861, 7) (3263, 7)\n"
     ]
    }
   ],
   "source": [
    "df = pd.read_csv(data_path+'progress/df.csv')\n",
    "test_df = pd.read_csv(data_path+'progress/test_df.csv')\n",
    "print(df.shape, test_df.shape)"
   ]
  },
  {
   "cell_type": "code",
   "execution_count": 4,
   "metadata": {},
   "outputs": [
    {
     "data": {
      "image/png": "[encoded data removed]",
      "text/plain": [
       "<Figure size 432x288 with 1 Axes>"
      ]
     },
     "metadata": {
      "needs_background": "light"
     },
     "output_type": "display_data"
    }
   ],
   "source": [
    "def plot_sent_len(dataf, col, title):\n",
    "    dataf['len_' + col] = dataf[col].apply(lambda txt: len(txt.split()))\n",
    "    plt.hist(dataf['len_' + col], bins = 100)\n",
    "    plt.title('Train sentences length')\n",
    "    plt.show()\n",
    "    return dataf\n",
    "\n",
    "col = 'ctext'\n",
    "df = plot_sent_len(df, col, 'sentence lengths')"
   ]
  },
  {
   "cell_type": "code",
   "execution_count": 5,
   "metadata": {},
   "outputs": [
    {
     "name": "stdout",
     "output_type": "stream",
     "text": [
      "Train size: (5831,)\n",
      "Validation size: (1030,)\n",
      "Test size: (3263,)\n"
     ]
    }
   ],
   "source": [
    "train_txts, val_txts, y_train, y_val = train_test_split(\n",
    "    df[col].values, df['target'].values,\n",
    "    shuffle = True, test_size = 0.15,\n",
    "    stratify = df['target'].values,\n",
    ")\n",
    "test_txts = test_df[col].values\n",
    "y_test = test_df['target'].values\n",
    "print('Train size:', train_txts.shape)\n",
    "print('Validation size:', val_txts.shape)\n",
    "print('Test size:', test_txts.shape)"
   ]
  },
  {
   "cell_type": "code",
   "execution_count": 6,
   "metadata": {},
   "outputs": [],
   "source": [
    "tokenizer = BertTokenizer.from_pretrained('bert-base-uncased')"
   ]
  },
  {
   "cell_type": "code",
   "execution_count": 7,
   "metadata": {},
   "outputs": [],
   "source": [
    "def tokenize_txts(txts, max_len = 40):\n",
    "    res = tokenizer(\n",
    "        text = [tokenizer.tokenize(txt) for txt in txts],\n",
    "        max_length = max_len,\n",
    "        padding = 'max_length',\n",
    "        truncation = True,\n",
    "        is_split_into_words = True,\n",
    "    )\n",
    "    return {\n",
    "        'input_word_ids': res['input_ids'],\n",
    "        'input_mask': res['attention_mask'],\n",
    "        'input_type_ids': res['token_type_ids'],\n",
    "    }\n",
    "\n",
    "def detokenize_txt(token):\n",
    "    res = tokenizer.decode(token)\n",
    "    return res"
   ]
  },
  {
   "cell_type": "code",
   "execution_count": 8,
   "metadata": {},
   "outputs": [],
   "source": [
    "MAX_LEN = 35\n",
    "BATCH_SIZE = 32"
   ]
  },
  {
   "cell_type": "code",
   "execution_count": 9,
   "metadata": {},
   "outputs": [],
   "source": [
    "train_tokens = tokenize_txts(train_txts, MAX_LEN)\n",
    "val_tokens = tokenize_txts(val_txts, MAX_LEN)\n",
    "test_tokens = tokenize_txts(test_txts, MAX_LEN)"
   ]
  },
  {
   "cell_type": "code",
   "execution_count": 10,
   "metadata": {},
   "outputs": [
    {
     "name": "stdout",
     "output_type": "stream",
     "text": [
      "Orginal txt:  so if i capsize on your thighs high tide b number you sunk my battleship\n",
      "\n",
      "Tokenized txt: [101, 2061, 2065, 1045, 9700, 1001, 1001, 1045, 4371, 2006, 2115, 9222, 2152, 10401, 1038, 2193, 2017, 10417, 2026, 17224, 102, 0, 0, 0, 0, 0, 0, 0, 0, 0, 0, 0, 0, 0, 0]\n",
      "\n",
      "Detokenizd txt: [CLS] so if i caps # # ize on your thighs high tide b number you sunk my battleship [SEP] [PAD] [PAD] [PAD] [PAD] [PAD] [PAD] [PAD] [PAD] [PAD] [PAD] [PAD] [PAD] [PAD] [PAD]\n"
     ]
    }
   ],
   "source": [
    "print('Orginal txt: ', train_txts[0])\n",
    "print()\n",
    "sample = train_tokens['input_word_ids'][0]\n",
    "print('Tokenized txt:', sample)\n",
    "print()\n",
    "print('Detokenizd txt:', detokenize_txt(sample))"
   ]
  },
  {
   "cell_type": "code",
   "execution_count": 37,
   "metadata": {},
   "outputs": [
    {
     "data": {
      "text/plain": [
       "'so if i capsize on your thighs high tide b number you sunk my battleship'"
      ]
     },
     "execution_count": 37,
     "metadata": {},
     "output_type": "execute_result"
    }
   ],
   "source": [
    "train_txts[0]"
   ]
  },
  {
   "cell_type": "code",
   "execution_count": 36,
   "metadata": {},
   "outputs": [
    {
     "data": {
      "text/plain": [
       "'some poor sods arriving in amman during yesterday is dust storm were diverted to ben gurion airport url'"
      ]
     },
     "execution_count": 36,
     "metadata": {},
     "output_type": "execute_result"
    }
   ],
   "source": [
    "train_txts[3]"
   ]
  },
  {
   "cell_type": "code",
   "execution_count": 16,
   "metadata": {},
   "outputs": [
    {
     "data": {
      "text/plain": [
       "dict_keys(['input_word_ids', 'input_mask', 'input_type_ids'])"
      ]
     },
     "execution_count": 16,
     "metadata": {},
     "output_type": "execute_result"
    }
   ],
   "source": [
    "train_tokens.keys()"
   ]
  },
  {
   "cell_type": "code",
   "execution_count": 21,
   "metadata": {},
   "outputs": [
    {
     "name": "stdout",
     "output_type": "stream",
     "text": [
      "[101, 2061, 2065, 1045, 9700, 1001, 1001, 1045, 4371, 2006, 2115, 9222, 2152, 10401, 1038, 2193, 2017, 10417, 2026, 17224, 102, 0, 0, 0, 0, 0, 0, 0, 0, 0, 0, 0, 0, 0, 0]\n",
      "[1, 1, 1, 1, 1, 1, 1, 1, 1, 1, 1, 1, 1, 1, 1, 1, 1, 1, 1, 1, 1, 0, 0, 0, 0, 0, 0, 0, 0, 0, 0, 0, 0, 0, 0]\n",
      "[0, 0, 0, 0, 0, 0, 0, 0, 0, 0, 0, 0, 0, 0, 0, 0, 0, 0, 0, 0, 0, 0, 0, 0, 0, 0, 0, 0, 0, 0, 0, 0, 0, 0, 0]\n"
     ]
    }
   ],
   "source": [
    "print(train_tokens['input_word_ids'][0])\n",
    "print(train_tokens['input_mask'][0])\n",
    "print(train_tokens['input_type_ids'][0])"
   ]
  },
  {
   "cell_type": "code",
   "execution_count": 32,
   "metadata": {},
   "outputs": [
    {
     "name": "stdout",
     "output_type": "stream",
     "text": [
      "[101, 2070, 3532, 2061, 1001, 1001, 16233, 7194, 1999, 25703, 2076, 7483, 2003, 6497, 4040, 2020, 18356, 2000, 3841, 19739, 1001, 1001, 5673, 2078, 3199, 24471, 1001, 1001, 1048, 102, 0, 0, 0, 0, 0]\n",
      "[1, 1, 1, 1, 1, 1, 1, 1, 1, 1, 1, 1, 1, 1, 1, 1, 1, 1, 1, 1, 1, 1, 1, 1, 1, 1, 1, 1, 1, 1, 0, 0, 0, 0, 0]\n",
      "[0, 0, 0, 0, 0, 0, 0, 0, 0, 0, 0, 0, 0, 0, 0, 0, 0, 0, 0, 0, 0, 0, 0, 0, 0, 0, 0, 0, 0, 0, 0, 0, 0, 0, 0]\n"
     ]
    }
   ],
   "source": [
    "print(train_tokens['input_word_ids'][3])\n",
    "print(train_tokens['input_mask'][3])\n",
    "print(train_tokens['input_type_ids'][3])"
   ]
  },
  {
   "cell_type": "code",
   "execution_count": 22,
   "metadata": {},
   "outputs": [
    {
     "data": {
      "text/plain": [
       "21"
      ]
     },
     "execution_count": 22,
     "metadata": {},
     "output_type": "execute_result"
    }
   ],
   "source": [
    "sum(train_tokens['input_mask'][0])"
   ]
  },
  {
   "cell_type": "code",
   "execution_count": 38,
   "metadata": {},
   "outputs": [],
   "source": [
    "train_ds = tf.data.Dataset.from_tensor_slices((train_tokens, y_train))\n",
    "val_ds = tf.data.Dataset.from_tensor_slices((val_tokens, y_val))\n",
    "test_ds = tf.data.Dataset.from_tensor_slices((test_tokens, y_test))\n",
    "\n",
    "train_ds = train_ds.batch(BATCH_SIZE)\n",
    "val_ds = val_ds.batch(BATCH_SIZE)\n",
    "test_ds = test_ds.batch(BATCH_SIZE)"
   ]
  },
  {
   "cell_type": "code",
   "execution_count": 41,
   "metadata": {},
   "outputs": [
    {
     "data": {
      "text/plain": [
       "<BatchDataset shapes: ({input_word_ids: (None, 35), input_mask: (None, 35), input_type_ids: (None, 35)}, (None,)), types: ({input_word_ids: tf.int32, input_mask: tf.int32, input_type_ids: tf.int32}, tf.int64)>"
      ]
     },
     "execution_count": 41,
     "metadata": {},
     "output_type": "execute_result"
    }
   ],
   "source": [
    "train_ds"
   ]
  },
  {
   "cell_type": "code",
   "execution_count": 39,
   "metadata": {},
   "outputs": [],
   "source": [
    "class MyF1(tf.keras.metrics.Metric):\n",
    "    def __init__(self, name = 'mf1_score'):\n",
    "        super(MyF1, self).__init__(name)\n",
    "        self.p = tf.metrics.Precision()\n",
    "        self.r = tf.metrics.Recall()\n",
    "        self.f1 = self.add_weight(name=\"f1\", initializer=\"zeros\")\n",
    "    \n",
    "    def update_state(self, actual, predicted, sample_weight = None):\n",
    "        self.p.update_state(actual, predicted)\n",
    "        self.r.update_state(actual, predicted)\n",
    "        self.f1.assign(2 * self.p.result() * self.r.result() / (self.p.result() + self.r.result()))\n",
    "        \n",
    "    def reset_states(self, ):\n",
    "        self.p.reset_states()\n",
    "        self.r.reset_states()\n",
    "        self.f1.assign(0.0)\n",
    "    def result(self,):\n",
    "        return self.f1    "
   ]
  },
  {
   "cell_type": "code",
   "execution_count": 40,
   "metadata": {},
   "outputs": [
    {
     "data": {
      "image/png": "[encoded data removed]",
      "text/plain": [
       "<Figure size 432x288 with 1 Axes>"
      ]
     },
     "metadata": {
      "needs_background": "light"
     },
     "output_type": "display_data"
    }
   ],
   "source": [
    "class CSchedule(tf.keras.optimizers.schedules.LearningRateSchedule):\n",
    "    def __init__(self, lr, freeze_epoch ,batch_size, data_size):\n",
    "        super(CSchedule, self).__init__()\n",
    "        self.lr = lr\n",
    "        self.bs = batch_size\n",
    "        self.ds = data_size\n",
    "        self.freeze_epoch = freeze_epoch\n",
    "\n",
    "    def __call__(self, step):\n",
    "        epoch = step /(self.ds / self.bs) + 1\n",
    "        if not self.freeze_epoch or epoch < self.freeze_epoch:\n",
    "            return self.lr / (tf.cast(epoch, tf.float32)+1)\n",
    "        else:\n",
    "            return self.lr * 10 / (tf.cast(epoch, tf.float32)+1)\n",
    "        \n",
    "clr = CSchedule(2e-5, 3, BATCH_SIZE, len(train_txts))\n",
    "plt.plot([clr(x) for x in tf.range(1, 1457, dtype=tf.float32)])\n",
    "plt.xlabel('steps')\n",
    "plt.ylabel('learning rate')\n",
    "plt.title('Learning Rate Schedule')\n",
    "plt.show()"
   ]
  },
  {
   "cell_type": "code",
   "execution_count": 42,
   "metadata": {},
   "outputs": [],
   "source": [
    "bert_handler = 'https://tfhub.dev/tensorflow/bert_en_uncased_L-12_H-768_A-12/3'"
   ]
  },
  {
   "cell_type": "code",
   "execution_count": 43,
   "metadata": {},
   "outputs": [],
   "source": [
    "class MClassifier(tf.keras.Model):\n",
    "    def __init__(self, dropout_rate):\n",
    "        super(MClassifier, self).__init__()\n",
    "        \n",
    "        self.bert_layer = hub.KerasLayer(\n",
    "            bert_handler,\n",
    "            name = 'feature_ext',\n",
    "            trainable = True,\n",
    "        )\n",
    "        self.dropout = tf.keras.layers.Dropout(dropout_rate)\n",
    "        self.proba = tf.keras.layers.Dense(1, activation = 'sigmoid')\n",
    "\n",
    "    def call(self, X_in, training):\n",
    "        x = self.bert_layer(X_in, training = training)\n",
    "        x = x['pooled_output']\n",
    "        x = self.dropout(x, training = training)\n",
    "        output = self.proba(x)\n",
    "        return output"
   ]
  },
  {
   "cell_type": "code",
   "execution_count": 44,
   "metadata": {},
   "outputs": [],
   "source": [
    "LEARNING_RATE = 2e-5\n",
    "EPOCHS = 5\n",
    "DP_RATE = 0.3\n",
    "\n",
    "loss_objective = tf.keras.losses.BinaryCrossentropy()"
   ]
  },
  {
   "cell_type": "code",
   "execution_count": 45,
   "metadata": {},
   "outputs": [],
   "source": [
    "def model_evaluation(model, ds, name):\n",
    "    acc = tf.keras.metrics.BinaryAccuracy()\n",
    "    f1 = MyF1()\n",
    "    total_loss = []\n",
    "    y_hats = []\n",
    "    for X, y in ds:\n",
    "        y_hat = model(X, training = False)\n",
    "        loss = loss_objective(y, y_hat)\n",
    "        acc.update_state(y, y_hat)\n",
    "        f1.update_state(y, y_hat)\n",
    "        total_loss.append(loss.numpy())\n",
    "        y_hats.append(y_hat)\n",
    "    y_hats = tf.concat(y_hats, axis = 0).numpy()\n",
    "    print(f'{name}, loss {np.mean(total_loss):.3f}, acc {acc.result().numpy():.3f}, f1 {f1.result().numpy():.3f}')\n",
    "    return y_hats, acc.result().numpy(), f1.result().numpy()"
   ]
  },
  {
   "cell_type": "code",
   "execution_count": 46,
   "metadata": {},
   "outputs": [],
   "source": [
    "@tf.function\n",
    "def train_step(model, tr_vars, X, y):\n",
    "    with tf.GradientTape() as tape:\n",
    "        y_hat = model(X, training = True)\n",
    "        loss = loss_objective(y, y_hat)\n",
    "    grads = tape.gradient(loss, tr_vars)\n",
    "    return loss, grads, y_hat\n",
    "\n",
    "def train_model(model, epochs, freeze_bert_on_epoch = None):\n",
    "    clr = CSchedule(LEARNING_RATE, freeze_bert_on_epoch, BATCH_SIZE, len(train_txts))\n",
    "    optimizer = tf.keras.optimizers.Adam(clr)\n",
    "    acc = tf.keras.metrics.BinaryAccuracy()\n",
    "    f1 = MyF1()\n",
    "    for epoch in range(1, epochs + 1):\n",
    "        \n",
    "        if freeze_bert_on_epoch is not None and epoch == freeze_bert_on_epoch:\n",
    "            model.get_layer('feature_ext').trainable = False\n",
    "            \n",
    "        acc.reset_states()\n",
    "        f1.reset_states()\n",
    "        total_loss = []\n",
    "        for X, y in train_ds:\n",
    "            tr_vars = model.trainable_variables\n",
    "            loss, grads, y_hat = train_step(model, tr_vars, X, y)\n",
    "            optimizer.apply_gradients(zip(grads, tr_vars))\n",
    "            acc.update_state(y, y_hat)\n",
    "            f1.update_state(y, y_hat)\n",
    "            total_loss.append(loss.numpy())\n",
    "            \n",
    "        print(f'epoch {epoch}, loss {np.mean(total_loss):.3f}, acc {acc.result().numpy():.3f}, f1 {f1.result().numpy():.3f}')\n",
    "        model_evaluation(model, val_ds, 'val')\n",
    "        print()\n",
    "        \n",
    "    y_test_hat, _, _ = model_evaluation(model, test_ds, 'test')\n",
    "    return y_test_hat"
   ]
  },
  {
   "cell_type": "code",
   "execution_count": null,
   "metadata": {},
   "outputs": [
    {
     "name": "stderr",
     "output_type": "stream",
     "text": [
      "INFO:absl:Using C:\\Users\\alba_\\AppData\\Local\\Temp\\tfhub_modules to cache modules.\n"
     ]
    },
    {
     "name": "stdout",
     "output_type": "stream",
     "text": [
      "epoch 1, loss 0.538, acc 0.731, f1 0.650\n",
      "val, loss 0.398, acc 0.833, f1 0.776\n",
      "\n"
     ]
    }
   ],
   "source": [
    "model = MClassifier(DP_RATE,)\n",
    "y_test_hat = train_model(model, EPOCHS, freeze_bert_on_epoch = 3)"
   ]
  },
  {
   "cell_type": "code",
   "execution_count": null,
   "metadata": {},
   "outputs": [],
   "source": [
    "y_model_hat = np.array([1 if x[0] >0.5 else 0 for x in y_test_hat])\n",
    "print(classification_report(y_test, y_model_hat))"
   ]
  },
  {
   "cell_type": "code",
   "execution_count": null,
   "metadata": {},
   "outputs": [],
   "source": [
    "def plot_embedding(X, y):\n",
    "    colors = ['green', 'red']\n",
    "    labels = ['NoDisastor', 'Disastor']\n",
    "    proj = PCA(2)\n",
    "    proj_X = proj.fit_transform(X)\n",
    "    for y_id in np.unique(y):\n",
    "        plt.scatter(\n",
    "            x = proj_X[y == y_id, 0], \n",
    "            y = proj_X[y == y_id, 1],\n",
    "            s = 4,\n",
    "            label = labels[y_id],\n",
    "            c = colors[y_id], \n",
    "            alpha = 0.4\n",
    "        )\n",
    "        plt.xlabel('X1')\n",
    "        plt.ylabel('X2')\n",
    "        plt.legend()\n",
    "\n",
    "def plot_embeddings(pooled, seq, mean_max, y, title):\n",
    "    fig = plt.figure(figsize = (12, 4))\n",
    "    plt.subplot(1, 3 ,1 )\n",
    "    plot_embedding(pooled, y)\n",
    "    plt.title(f'Pooled output in {title} dataset')\n",
    "    \n",
    "    plt.subplot(1, 3 ,2)\n",
    "    plot_embedding(seq, y)\n",
    "    plt.title(f'Mean hidden state in {title} dataset')\n",
    "    \n",
    "    plt.subplot(1, 3 ,3)\n",
    "    plot_embedding(mean_max, y)\n",
    "    plt.title(f'MeanMax hidden state in {title} dataset')\n",
    "    plt.show()\n",
    "    \n",
    "def accumulate_embeddings(model, ds):\n",
    "    embedder = model.get_layer('feature_ext')\n",
    "    pooled_list = []\n",
    "    seq_list = []\n",
    "    for X, y in ds:\n",
    "        output = embedder(X,)\n",
    "        pooled_output = output['pooled_output'].numpy()\n",
    "        seq_output = output['sequence_output'].numpy()\n",
    "        pooled_list.append(pooled_output)\n",
    "        seq_list.append(seq_output)\n",
    "    pooled_list = tf.concat(pooled_list, axis = 0).numpy()\n",
    "    seq_list = tf.concat(seq_list, axis = 0).numpy()\n",
    "    return pooled_list, np.mean(seq_list, axis = 1), np.mean(seq_list, axis = 1) + np.max(seq_list, axis = 1)"
   ]
  },
  {
   "cell_type": "code",
   "execution_count": null,
   "metadata": {},
   "outputs": [],
   "source": [
    "tr_pooled, tr_seq, tr_mean_max = accumulate_embeddings(model, train_ds,)\n",
    "plot_embeddings(tr_pooled, tr_seq,tr_mean_max, y_train, 'Train')\n",
    "\n",
    "val_pooled, val_seq, val_mean_max = accumulate_embeddings(model, val_ds,)\n",
    "plot_embeddings(val_pooled, val_seq,val_mean_max, y_val, 'Valid')\n",
    "\n",
    "test_pooled, test_seq, test_mean_max = accumulate_embeddings(model, test_ds,)\n",
    "plot_embeddings(test_pooled, test_seq, test_mean_max, y_test, 'Test')"
   ]
  },
  {
   "cell_type": "code",
   "execution_count": null,
   "metadata": {},
   "outputs": [],
   "source": [
    "def train_gbm_cls(X_tr, y_tr, X_val, y_val, X_test, y_test):\n",
    "    gbm_cls = LGBMClassifier(\n",
    "        objective = 'binary',\n",
    "        class_weight = 'balanced'\n",
    "    )\n",
    "    gbm_cls.fit(\n",
    "        X_tr, y_tr,\n",
    "        eval_set = (X_val, y_val),\n",
    "        early_stopping_rounds = 20,\n",
    "        verbose = 0,\n",
    "    )\n",
    "    print('Train')\n",
    "    print(classification_report(y_train, gbm_cls.predict(X_tr)))\n",
    "    print('Validation')\n",
    "    print(classification_report(y_val, gbm_cls.predict(X_val)))\n",
    "    print('Test')\n",
    "    gbm_y_hat = gbm_cls.predict(X_test)\n",
    "    print(classification_report(y_test, gbm_y_hat))\n",
    "    return gbm_cls, gbm_y_hat\n",
    "\n",
    "train_feat = tr_mean_max\n",
    "val_feat = val_mean_max\n",
    "test_feat = test_mean_max\n",
    "\n",
    "gbm_cls, gbm_y_hat = train_gbm_cls(train_feat, y_train, val_feat, y_val , test_feat, y_test)"
   ]
  },
  {
   "cell_type": "code",
   "execution_count": null,
   "metadata": {},
   "outputs": [],
   "source": [
    "sub = pd.DataFrame(columns = ['id', 'target'])\n",
    "sub['id'] = test_df.id\n",
    "sub['target'] = gbm_y_hat\n",
    "sub.to_csv('sub.csv', index = False)"
   ]
  },
  {
   "cell_type": "code",
   "execution_count": null,
   "metadata": {},
   "outputs": [],
   "source": [
    "nsub = pd.DataFrame(columns = ['id', 'target'])\n",
    "nsub['id'] = test_df.id\n",
    "nsub['target'] = y_model_hat\n",
    "nsub.to_csv('nsub.csv', index = False)"
   ]
  },
  {
   "cell_type": "code",
   "execution_count": null,
   "metadata": {},
   "outputs": [],
   "source": []
  },
  {
   "cell_type": "code",
   "execution_count": null,
   "metadata": {},
   "outputs": [],
   "source": []
  },
  {
   "cell_type": "code",
   "execution_count": null,
   "metadata": {},
   "outputs": [],
   "source": []
  },
  {
   "cell_type": "code",
   "execution_count": null,
   "metadata": {},
   "outputs": [],
   "source": []
  },
  {
   "cell_type": "code",
   "execution_count": null,
   "metadata": {},
   "outputs": [],
   "source": []
  }
 ],
 "metadata": {
  "kernelspec": {
   "display_name": "Python 3",
   "language": "python",
   "name": "python3"
  },
  "language_info": {
   "codemirror_mode": {
    "name": "ipython",
    "version": 3
   },
   "file_extension": ".py",
   "mimetype": "text/x-python",
   "name": "python",
   "nbconvert_exporter": "python",
   "pygments_lexer": "ipython3",
   "version": "3.8.5"
  }
 },
 "nbformat": 4,
 "nbformat_minor": 4
}
